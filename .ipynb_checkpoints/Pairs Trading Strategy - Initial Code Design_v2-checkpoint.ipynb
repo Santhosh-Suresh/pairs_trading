{
 "cells": [
  {
   "cell_type": "code",
   "execution_count": 1,
   "metadata": {},
   "outputs": [],
   "source": [
    "import numpy as np\n",
    "import pandas as pd\n",
    "import statsmodels.api as sm\n",
    "from statsmodels.tsa.stattools import adfuller\n",
    "import yfinance as yf\n",
    "from scipy.stats import pearsonr\n",
    "import matplotlib.pyplot as plt"
   ]
  },
  {
   "cell_type": "markdown",
   "metadata": {},
   "source": [
    "#### Pseudo Code for Pairs Trading Strategy:\n",
    "\n",
    "1. Choose two assets to trade.\n",
    "2. Collect historical price data for both assets.\n",
    "3. Calculate the spread between the two assets' prices at each time point.\n",
    "4. Calculate the mean and standard deviation of the spread.\n",
    "5. Determine the entry and exit thresholds for the spread, typically a certain number of standard deviations from the mean.\n",
    "6. Start trading.\n",
    "7. If the spread is above the entry threshold, short the relatively overpriced asset and long the relatively under-priced asset.\n",
    "8. If the spread is below the exit threshold, exit the trade by buying back the shorted asset and selling the longed asset.\n",
    "9. Monitor the spread continuously and adjust the trade accordingly.\n",
    "10. Exit the trade when the spread returns to the mean or reaches the opposite threshold.\n",
    "\n",
    "Please note that this is a very basic strategy and there are many variations and refinements that can be made to improve its performance. Additionally, the pseudocode does not include details on how to handle issues such as transaction costs, liquidity, and risk management, which are important considerations in any trading strategy.\n"
   ]
  },
  {
   "cell_type": "code",
   "execution_count": 2,
   "metadata": {},
   "outputs": [],
   "source": [
    "# Define the pairs trading strategy function\n",
    "\n",
    "def pairs_trading_strategy(stock1, stock2, start_date, end_date):\n",
    "    # Load the stock data\n",
    "    stock1_data = pd.read_csv(f\"{stock1}.csv\", index_col='Date', parse_dates=True)\n",
    "    stock2_data = pd.read_csv(f\"{stock2}.csv\", index_col='Date', parse_dates=True)\n",
    "\n",
    "    # Filter the data by date range\n",
    "    stock1_data = stock1_data[start_date:end_date]\n",
    "    stock2_data = stock2_data[start_date:end_date]\n",
    "    \n",
    "    # Checking for correlation\n",
    "\n",
    "    corr, _ = pearsonr(stock1_data[\"Close\"], stock2_data[\"Close\"])\n",
    "    print('Pearsons correlation between Stock 1 and Stock 2 is: %.3f' % corr)\n",
    "    \n",
    "    plt.scatter(stock1_data[\"Close\"],stock2_data[\"Close\"])\n",
    "\n",
    "    # Calculate the spread between the two stocks\n",
    "    spread = stock1_data['Close'] - stock2_data['Close']\n",
    "    \n",
    "\n",
    "    # Perform the co-integration test\n",
    "    results = sm.OLS(stock1_data['Close'], stock2_data['Close']).fit()\n",
    "    beta = results.params[0]\n",
    "    spread_hat = stock1_data['Close'] - beta * stock2_data['Close']\n",
    "    adf_test = adfuller(spread_hat)\n",
    "    if adf_test[1] > 0.05:\n",
    "        print(\"The spread is not stationary.\")\n",
    "        return None\n",
    "\n",
    "    # Calculate the mean and standard deviation of the spread\n",
    "    spread_mean = np.mean(spread)\n",
    "    spread_std = np.std(spread)\n",
    "\n",
    "    # Calculate the upper and lower bounds of the spread\n",
    "    upper_bound = spread_mean + 2 * spread_std\n",
    "    lower_bound = spread_mean - 2 * spread_std\n",
    "\n",
    "    # Create signals based on the spread crossing the bounds\n",
    "    signals = np.zeros(len(spread))\n",
    "    for i in range(len(spread)):\n",
    "        if spread[i] > upper_bound:\n",
    "            signals[i] = -1\n",
    "        elif spread[i] < lower_bound:\n",
    "            signals[i] = 1\n",
    "\n",
    "    # Calculate the returns based on the signals\n",
    "    stock1_returns = stock1_data['Close'].pct_change()\n",
    "    stock2_returns = stock2_data['Close'].pct_change()\n",
    "    strategy_returns = signals * (stock1_returns - beta * stock2_returns)\n",
    "\n",
    "    # Calculate the cumulative returns of the strategy\n",
    "    strategy_cum_returns = np.cumprod(1 + strategy_returns) - 1\n",
    "\n",
    "    # Return the cumulative returns of the strategy\n",
    "    return strategy_cum_returns[-1]"
   ]
  },
  {
   "cell_type": "markdown",
   "metadata": {},
   "source": [
    "### Example:"
   ]
  },
  {
   "cell_type": "code",
   "execution_count": 3,
   "metadata": {},
   "outputs": [
    {
     "name": "stdout",
     "output_type": "stream",
     "text": [
      "Pearsons correlation between Stock 1 and Stock 2 is: 0.923\n",
      "The spread is not stationary.\n"
     ]
    },
    {
     "data": {
      "image/png": "[encoded data removed]",
      "text/plain": [
       "<Figure size 432x288 with 1 Axes>"
      ]
     },
     "metadata": {
      "needs_background": "light"
     },
     "output_type": "display_data"
    }
   ],
   "source": [
    "pairs_trading_strategy(\"AAPL\", \"MSFT\", \"2020-04-01\", \"2022-03-31\")"
   ]
  }
 ],
 "metadata": {
  "kernelspec": {
   "display_name": "Python 3",
   "language": "python",
   "name": "python3"
  },
  "language_info": {
   "codemirror_mode": {
    "name": "ipython",
    "version": 3
   },
   "file_extension": ".py",
   "mimetype": "text/x-python",
   "name": "python",
   "nbconvert_exporter": "python",
   "pygments_lexer": "ipython3",
   "version": "3.7.6"
  }
 },
 "nbformat": 4,
 "nbformat_minor": 5
}
